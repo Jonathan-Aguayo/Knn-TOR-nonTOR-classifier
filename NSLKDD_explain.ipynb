{
 "cells": [
  {
   "cell_type": "markdown",
   "id": "prescription-namibia",
   "metadata": {},
   "source": [
    "The KDD cup was an International Knowledge Discovery and Data Mining Tools Competition. In 1999, this competition was held with the goal of collecting traffic records. The competition task was to build a network intrusion detector, a predictive model capable of distinguishing between \"bad\" connections, called intrusions or attacks, and \"good\" normal connections. As a result of this competition, a mass amount of internet traffic records were collected and bundled into a data set called the KDD’99, and from this, the NSL-KDD data set was brought into existence, as a revised, cleaned-up version of the KDD’99 from the University of New Brunswick.\n",
    "https://towardsdatascience.com/a-deeper-dive-into-the-nsl-kdd-data-set-15c753364657"
   ]
  },
  {
   "cell_type": "code",
   "execution_count": 2,
   "id": "whole-meter",
   "metadata": {},
   "outputs": [],
   "source": [
    "#!/usr/bin/env python\n",
    "import math\n",
    "import numpy as np\n",
    "import matplotlib.pyplot as plt\n",
    "import pandas as pd\n",
    "import sklearn.preprocessing\n",
    "from mlxtend.plotting import plot_decision_regions\n",
    "from sklearn.model_selection import GridSearchCV\n",
    "from sklearn.ensemble import RandomForestClassifier\n",
    "from sklearn.metrics import accuracy_score\n",
    "from sklearn.metrics import confusion_matrix\n",
    "from sklearn.metrics import f1_score\n",
    "from sklearn import svm\n",
    "from sklearn.preprocessing import LabelEncoder"
   ]
  },
  {
   "cell_type": "code",
   "execution_count": 3,
   "id": "annual-magnitude",
   "metadata": {},
   "outputs": [],
   "source": [
    "train_data = pd.read_csv('Train_data.csv')\n",
    "test_data = pd.read_csv('Test_data.csv')"
   ]
  },
  {
   "cell_type": "code",
   "execution_count": 4,
   "id": "informal-bathroom",
   "metadata": {},
   "outputs": [
    {
     "name": "stdout",
     "output_type": "stream",
     "text": [
      "(25192, 42)\n"
     ]
    }
   ],
   "source": [
    "train_data_df = pd.DataFrame(train_data)\n",
    "print(train_data_df.shape)"
   ]
  },
  {
   "cell_type": "code",
   "execution_count": 5,
   "id": "identified-damage",
   "metadata": {},
   "outputs": [
    {
     "name": "stdout",
     "output_type": "stream",
     "text": [
      "(22544, 41)\n"
     ]
    }
   ],
   "source": [
    "test_data_df = pd.DataFrame(test_data)\n",
    "print(test_data_df.shape)"
   ]
  },
  {
   "cell_type": "code",
   "execution_count": 6,
   "id": "transparent-miami",
   "metadata": {},
   "outputs": [
    {
     "data": {
      "text/plain": [
       "{'class'}"
      ]
     },
     "execution_count": 6,
     "metadata": {},
     "output_type": "execute_result"
    }
   ],
   "source": [
    "set(train_data_df).difference(set(test_data_df))"
   ]
  },
  {
   "cell_type": "code",
   "execution_count": 7,
   "id": "separated-patio",
   "metadata": {},
   "outputs": [],
   "source": [
    "train_data_df = train_data_df[['duration', 'protocol_type', 'service', 'flag', 'src_bytes', 'dst_bytes','dst_host_srv_serror_rate','logged_in', 'dst_host_same_src_port_rate', 'count','serror_rate','class','rerror_rate','num_outbound_cmds','is_host_login','is_guest_login' ]]"
   ]
  },
  {
   "cell_type": "code",
   "execution_count": 8,
   "id": "quantitative-humidity",
   "metadata": {},
   "outputs": [
    {
     "data": {
      "text/html": [
       "<div>\n",
       "<style scoped>\n",
       "    .dataframe tbody tr th:only-of-type {\n",
       "        vertical-align: middle;\n",
       "    }\n",
       "\n",
       "    .dataframe tbody tr th {\n",
       "        vertical-align: top;\n",
       "    }\n",
       "\n",
       "    .dataframe thead th {\n",
       "        text-align: right;\n",
       "    }\n",
       "</style>\n",
       "<table border=\"1\" class=\"dataframe\">\n",
       "  <thead>\n",
       "    <tr style=\"text-align: right;\">\n",
       "      <th></th>\n",
       "      <th>duration</th>\n",
       "      <th>protocol_type</th>\n",
       "      <th>service</th>\n",
       "      <th>flag</th>\n",
       "      <th>src_bytes</th>\n",
       "      <th>dst_bytes</th>\n",
       "      <th>dst_host_srv_serror_rate</th>\n",
       "      <th>logged_in</th>\n",
       "      <th>dst_host_same_src_port_rate</th>\n",
       "      <th>count</th>\n",
       "      <th>serror_rate</th>\n",
       "      <th>class</th>\n",
       "      <th>rerror_rate</th>\n",
       "      <th>num_outbound_cmds</th>\n",
       "      <th>is_host_login</th>\n",
       "      <th>is_guest_login</th>\n",
       "    </tr>\n",
       "  </thead>\n",
       "  <tbody>\n",
       "    <tr>\n",
       "      <th>0</th>\n",
       "      <td>0</td>\n",
       "      <td>tcp</td>\n",
       "      <td>ftp_data</td>\n",
       "      <td>SF</td>\n",
       "      <td>491</td>\n",
       "      <td>0</td>\n",
       "      <td>0.00</td>\n",
       "      <td>0</td>\n",
       "      <td>0.17</td>\n",
       "      <td>2</td>\n",
       "      <td>0.0</td>\n",
       "      <td>normal</td>\n",
       "      <td>0.0</td>\n",
       "      <td>0</td>\n",
       "      <td>0</td>\n",
       "      <td>0</td>\n",
       "    </tr>\n",
       "    <tr>\n",
       "      <th>1</th>\n",
       "      <td>0</td>\n",
       "      <td>udp</td>\n",
       "      <td>other</td>\n",
       "      <td>SF</td>\n",
       "      <td>146</td>\n",
       "      <td>0</td>\n",
       "      <td>0.00</td>\n",
       "      <td>0</td>\n",
       "      <td>0.88</td>\n",
       "      <td>13</td>\n",
       "      <td>0.0</td>\n",
       "      <td>normal</td>\n",
       "      <td>0.0</td>\n",
       "      <td>0</td>\n",
       "      <td>0</td>\n",
       "      <td>0</td>\n",
       "    </tr>\n",
       "    <tr>\n",
       "      <th>2</th>\n",
       "      <td>0</td>\n",
       "      <td>tcp</td>\n",
       "      <td>private</td>\n",
       "      <td>S0</td>\n",
       "      <td>0</td>\n",
       "      <td>0</td>\n",
       "      <td>1.00</td>\n",
       "      <td>0</td>\n",
       "      <td>0.00</td>\n",
       "      <td>123</td>\n",
       "      <td>1.0</td>\n",
       "      <td>anomaly</td>\n",
       "      <td>0.0</td>\n",
       "      <td>0</td>\n",
       "      <td>0</td>\n",
       "      <td>0</td>\n",
       "    </tr>\n",
       "    <tr>\n",
       "      <th>3</th>\n",
       "      <td>0</td>\n",
       "      <td>tcp</td>\n",
       "      <td>http</td>\n",
       "      <td>SF</td>\n",
       "      <td>232</td>\n",
       "      <td>8153</td>\n",
       "      <td>0.01</td>\n",
       "      <td>1</td>\n",
       "      <td>0.03</td>\n",
       "      <td>5</td>\n",
       "      <td>0.2</td>\n",
       "      <td>normal</td>\n",
       "      <td>0.0</td>\n",
       "      <td>0</td>\n",
       "      <td>0</td>\n",
       "      <td>0</td>\n",
       "    </tr>\n",
       "    <tr>\n",
       "      <th>4</th>\n",
       "      <td>0</td>\n",
       "      <td>tcp</td>\n",
       "      <td>http</td>\n",
       "      <td>SF</td>\n",
       "      <td>199</td>\n",
       "      <td>420</td>\n",
       "      <td>0.00</td>\n",
       "      <td>1</td>\n",
       "      <td>0.00</td>\n",
       "      <td>30</td>\n",
       "      <td>0.0</td>\n",
       "      <td>normal</td>\n",
       "      <td>0.0</td>\n",
       "      <td>0</td>\n",
       "      <td>0</td>\n",
       "      <td>0</td>\n",
       "    </tr>\n",
       "  </tbody>\n",
       "</table>\n",
       "</div>"
      ],
      "text/plain": [
       "   duration protocol_type   service flag  src_bytes  dst_bytes  \\\n",
       "0         0           tcp  ftp_data   SF        491          0   \n",
       "1         0           udp     other   SF        146          0   \n",
       "2         0           tcp   private   S0          0          0   \n",
       "3         0           tcp      http   SF        232       8153   \n",
       "4         0           tcp      http   SF        199        420   \n",
       "\n",
       "   dst_host_srv_serror_rate  logged_in  dst_host_same_src_port_rate  count  \\\n",
       "0                      0.00          0                         0.17      2   \n",
       "1                      0.00          0                         0.88     13   \n",
       "2                      1.00          0                         0.00    123   \n",
       "3                      0.01          1                         0.03      5   \n",
       "4                      0.00          1                         0.00     30   \n",
       "\n",
       "   serror_rate    class  rerror_rate  num_outbound_cmds  is_host_login  \\\n",
       "0          0.0   normal          0.0                  0              0   \n",
       "1          0.0   normal          0.0                  0              0   \n",
       "2          1.0  anomaly          0.0                  0              0   \n",
       "3          0.2   normal          0.0                  0              0   \n",
       "4          0.0   normal          0.0                  0              0   \n",
       "\n",
       "   is_guest_login  \n",
       "0               0  \n",
       "1               0  \n",
       "2               0  \n",
       "3               0  \n",
       "4               0  "
      ]
     },
     "execution_count": 8,
     "metadata": {},
     "output_type": "execute_result"
    }
   ],
   "source": [
    "train_data_df.head()"
   ]
  },
  {
   "cell_type": "code",
   "execution_count": 9,
   "id": "checked-winter",
   "metadata": {},
   "outputs": [
    {
     "data": {
      "text/plain": [
       "normal     13449\n",
       "anomaly    11743\n",
       "Name: class, dtype: int64"
      ]
     },
     "execution_count": 9,
     "metadata": {},
     "output_type": "execute_result"
    }
   ],
   "source": [
    "train_data_df['class'].value_counts()"
   ]
  },
  {
   "cell_type": "markdown",
   "id": "demonstrated-lucas",
   "metadata": {},
   "source": [
    "| field | continuous vs discrete | example | \n",
    "| --- | --- | --- |\n",
    "| duration | continuous | | \n",
    "| protocol_type | discrete | tcp, udp, icmp |\n",
    "| service | discrete | 66 values including http, private, domain_u, smtp, ftp_data, and so forth. |\n",
    "| flag | discrete | 11 values including SF, S0, REJ, RSTR, and so forth. |\n",
    "| src_bytes | continuous | |\n",
    "| dst_bytes | continuous | |\n",
    "| class | discrete | normal vs anomaly |"
   ]
  },
  {
   "cell_type": "markdown",
   "id": "subtle-senate",
   "metadata": {},
   "source": [
    "# Feature Engineering"
   ]
  },
  {
   "cell_type": "code",
   "execution_count": 10,
   "id": "fe3376fc-de49-4f1d-82fc-708962344539",
   "metadata": {},
   "outputs": [],
   "source": [
    "def encodify(dataframe, feature):\n",
    "    encoder = LabelEncoder()\n",
    "    encoder.fit(dataframe[feature])\n",
    "    encoded_feature = encoder.transform(dataframe[feature])\n",
    "    dataframe[feature] = encoded_feature"
   ]
  },
  {
   "cell_type": "code",
   "execution_count": 11,
   "id": "7acafe0a-aa51-4e8e-9de6-a228345aea03",
   "metadata": {
    "tags": []
   },
   "outputs": [],
   "source": [
    "discrete_feature_l = ['class','protocol_type','flag','service']\n",
    "for feature in discrete_feature_l:\n",
    "    encodify(train_data_df, feature)"
   ]
  },
  {
   "cell_type": "markdown",
   "id": "d903c20c-af7f-4ba9-b2bc-3d3faa872505",
   "metadata": {},
   "source": [
    "# train-to-test spliteighty_cut_n = math.ceil(train_data_df.shape[0] * 0.8)\n",
    "print(eighty_cut_n)"
   ]
  },
  {
   "cell_type": "code",
   "execution_count": 12,
   "id": "502f9191-9d60-4279-8c73-9584653e2f83",
   "metadata": {},
   "outputs": [
    {
     "name": "stdout",
     "output_type": "stream",
     "text": [
      "20154\n"
     ]
    }
   ],
   "source": [
    "eighty_cut_n = math.ceil(train_data_df.shape[0] * 0.8)\n",
    "print(eighty_cut_n)"
   ]
  },
  {
   "cell_type": "code",
   "execution_count": 13,
   "id": "dc97fe77-98d8-4ada-90a4-2f3c8397aa08",
   "metadata": {
    "tags": []
   },
   "outputs": [
    {
     "data": {
      "text/html": [
       "<div>\n",
       "<style scoped>\n",
       "    .dataframe tbody tr th:only-of-type {\n",
       "        vertical-align: middle;\n",
       "    }\n",
       "\n",
       "    .dataframe tbody tr th {\n",
       "        vertical-align: top;\n",
       "    }\n",
       "\n",
       "    .dataframe thead th {\n",
       "        text-align: right;\n",
       "    }\n",
       "</style>\n",
       "<table border=\"1\" class=\"dataframe\">\n",
       "  <thead>\n",
       "    <tr style=\"text-align: right;\">\n",
       "      <th></th>\n",
       "      <th>duration</th>\n",
       "      <th>protocol_type</th>\n",
       "      <th>service</th>\n",
       "      <th>flag</th>\n",
       "      <th>src_bytes</th>\n",
       "      <th>dst_bytes</th>\n",
       "      <th>dst_host_srv_serror_rate</th>\n",
       "      <th>logged_in</th>\n",
       "      <th>dst_host_same_src_port_rate</th>\n",
       "      <th>count</th>\n",
       "      <th>serror_rate</th>\n",
       "      <th>class</th>\n",
       "      <th>rerror_rate</th>\n",
       "      <th>num_outbound_cmds</th>\n",
       "      <th>is_host_login</th>\n",
       "      <th>is_guest_login</th>\n",
       "    </tr>\n",
       "  </thead>\n",
       "  <tbody>\n",
       "    <tr>\n",
       "      <th>0</th>\n",
       "      <td>0</td>\n",
       "      <td>1</td>\n",
       "      <td>19</td>\n",
       "      <td>9</td>\n",
       "      <td>491</td>\n",
       "      <td>0</td>\n",
       "      <td>0.00</td>\n",
       "      <td>0</td>\n",
       "      <td>0.17</td>\n",
       "      <td>2</td>\n",
       "      <td>0.0</td>\n",
       "      <td>1</td>\n",
       "      <td>0.0</td>\n",
       "      <td>0</td>\n",
       "      <td>0</td>\n",
       "      <td>0</td>\n",
       "    </tr>\n",
       "    <tr>\n",
       "      <th>1</th>\n",
       "      <td>0</td>\n",
       "      <td>2</td>\n",
       "      <td>41</td>\n",
       "      <td>9</td>\n",
       "      <td>146</td>\n",
       "      <td>0</td>\n",
       "      <td>0.00</td>\n",
       "      <td>0</td>\n",
       "      <td>0.88</td>\n",
       "      <td>13</td>\n",
       "      <td>0.0</td>\n",
       "      <td>1</td>\n",
       "      <td>0.0</td>\n",
       "      <td>0</td>\n",
       "      <td>0</td>\n",
       "      <td>0</td>\n",
       "    </tr>\n",
       "    <tr>\n",
       "      <th>2</th>\n",
       "      <td>0</td>\n",
       "      <td>1</td>\n",
       "      <td>46</td>\n",
       "      <td>5</td>\n",
       "      <td>0</td>\n",
       "      <td>0</td>\n",
       "      <td>1.00</td>\n",
       "      <td>0</td>\n",
       "      <td>0.00</td>\n",
       "      <td>123</td>\n",
       "      <td>1.0</td>\n",
       "      <td>0</td>\n",
       "      <td>0.0</td>\n",
       "      <td>0</td>\n",
       "      <td>0</td>\n",
       "      <td>0</td>\n",
       "    </tr>\n",
       "    <tr>\n",
       "      <th>3</th>\n",
       "      <td>0</td>\n",
       "      <td>1</td>\n",
       "      <td>22</td>\n",
       "      <td>9</td>\n",
       "      <td>232</td>\n",
       "      <td>8153</td>\n",
       "      <td>0.01</td>\n",
       "      <td>1</td>\n",
       "      <td>0.03</td>\n",
       "      <td>5</td>\n",
       "      <td>0.2</td>\n",
       "      <td>1</td>\n",
       "      <td>0.0</td>\n",
       "      <td>0</td>\n",
       "      <td>0</td>\n",
       "      <td>0</td>\n",
       "    </tr>\n",
       "    <tr>\n",
       "      <th>4</th>\n",
       "      <td>0</td>\n",
       "      <td>1</td>\n",
       "      <td>22</td>\n",
       "      <td>9</td>\n",
       "      <td>199</td>\n",
       "      <td>420</td>\n",
       "      <td>0.00</td>\n",
       "      <td>1</td>\n",
       "      <td>0.00</td>\n",
       "      <td>30</td>\n",
       "      <td>0.0</td>\n",
       "      <td>1</td>\n",
       "      <td>0.0</td>\n",
       "      <td>0</td>\n",
       "      <td>0</td>\n",
       "      <td>0</td>\n",
       "    </tr>\n",
       "  </tbody>\n",
       "</table>\n",
       "</div>"
      ],
      "text/plain": [
       "   duration  protocol_type  service  flag  src_bytes  dst_bytes  \\\n",
       "0         0              1       19     9        491          0   \n",
       "1         0              2       41     9        146          0   \n",
       "2         0              1       46     5          0          0   \n",
       "3         0              1       22     9        232       8153   \n",
       "4         0              1       22     9        199        420   \n",
       "\n",
       "   dst_host_srv_serror_rate  logged_in  dst_host_same_src_port_rate  count  \\\n",
       "0                      0.00          0                         0.17      2   \n",
       "1                      0.00          0                         0.88     13   \n",
       "2                      1.00          0                         0.00    123   \n",
       "3                      0.01          1                         0.03      5   \n",
       "4                      0.00          1                         0.00     30   \n",
       "\n",
       "   serror_rate  class  rerror_rate  num_outbound_cmds  is_host_login  \\\n",
       "0          0.0      1          0.0                  0              0   \n",
       "1          0.0      1          0.0                  0              0   \n",
       "2          1.0      0          0.0                  0              0   \n",
       "3          0.2      1          0.0                  0              0   \n",
       "4          0.0      1          0.0                  0              0   \n",
       "\n",
       "   is_guest_login  \n",
       "0               0  \n",
       "1               0  \n",
       "2               0  \n",
       "3               0  \n",
       "4               0  "
      ]
     },
     "execution_count": 13,
     "metadata": {},
     "output_type": "execute_result"
    }
   ],
   "source": [
    "train_data_df.head()"
   ]
  },
  {
   "cell_type": "code",
   "execution_count": 14,
   "id": "527d003e-c376-484d-80e5-0665a887acb4",
   "metadata": {
    "tags": []
   },
   "outputs": [],
   "source": [
    "train_x = train_data_df.loc[:eighty_cut_n, ['duration', 'protocol_type', 'service', 'flag', 'src_bytes', 'dst_bytes','dst_host_srv_serror_rate','logged_in', 'dst_host_same_src_port_rate', 'count','serror_rate','rerror_rate','num_outbound_cmds','is_host_login','is_guest_login' ]]\n",
    "train_y = train_data_df.loc[:eighty_cut_n,'class']\n",
    "test_x = train_data_df.loc[eighty_cut_n:, ['duration', 'protocol_type', 'service', 'flag', 'src_bytes', 'dst_bytes','dst_host_srv_serror_rate','logged_in', 'dst_host_same_src_port_rate', 'count','serror_rate','rerror_rate','num_outbound_cmds','is_host_login','is_guest_login' ]]\n",
    "test_y = train_data_df.loc[eighty_cut_n:, 'class']"
   ]
  },
  {
   "cell_type": "code",
   "execution_count": 15,
   "id": "625c13fd-4e8a-4325-a478-a57a0db9d5dd",
   "metadata": {},
   "outputs": [
    {
     "data": {
      "text/plain": [
       "(25192, 42)"
      ]
     },
     "execution_count": 15,
     "metadata": {},
     "output_type": "execute_result"
    }
   ],
   "source": [
    "train_data.shape"
   ]
  },
  {
   "cell_type": "code",
   "execution_count": 16,
   "id": "successful-barbados",
   "metadata": {},
   "outputs": [
    {
     "data": {
      "text/plain": [
       "(20155, 15)"
      ]
     },
     "execution_count": 16,
     "metadata": {},
     "output_type": "execute_result"
    }
   ],
   "source": [
    "train_x.shape"
   ]
  },
  {
   "cell_type": "code",
   "execution_count": 17,
   "id": "painful-powell",
   "metadata": {},
   "outputs": [
    {
     "data": {
      "text/plain": [
       "(5038, 15)"
      ]
     },
     "execution_count": 17,
     "metadata": {},
     "output_type": "execute_result"
    }
   ],
   "source": [
    "test_x.shape"
   ]
  },
  {
   "cell_type": "code",
   "execution_count": 18,
   "id": "known-exclusive",
   "metadata": {},
   "outputs": [
    {
     "data": {
      "text/plain": [
       "1    10775\n",
       "0     9380\n",
       "Name: class, dtype: int64"
      ]
     },
     "execution_count": 18,
     "metadata": {},
     "output_type": "execute_result"
    }
   ],
   "source": [
    "train_y.value_counts()"
   ]
  },
  {
   "cell_type": "code",
   "execution_count": 19,
   "id": "weird-ability",
   "metadata": {},
   "outputs": [
    {
     "data": {
      "text/plain": [
       "Text(0, 0.5, 'Frequency')"
      ]
     },
     "execution_count": 19,
     "metadata": {},
     "output_type": "execute_result"
    },
    {
     "data": {
      "image/png": "[encoded data removed]",
      "text/plain": [
       "<Figure size 432x288 with 1 Axes>"
      ]
     },
     "metadata": {
      "needs_background": "light"
     },
     "output_type": "display_data"
    }
   ],
   "source": [
    "label_l = ['Normal', 'Anomaly']\n",
    "classes = pd.value_counts(train_y, sort = True)\n",
    "classes.plot(kind = 'bar', rot = 0, color = \"green\")\n",
    "plt.title(\"Network Traffic Distribution (Training Set)\")\n",
    "plt.xticks(range(2), label_l)\n",
    "plt.xlabel(\"Class\")\n",
    "plt.ylabel(\"Frequency\")"
   ]
  },
  {
   "cell_type": "code",
   "execution_count": 20,
   "id": "signed-check",
   "metadata": {},
   "outputs": [
    {
     "data": {
      "text/plain": [
       "1    2675\n",
       "0    2363\n",
       "Name: class, dtype: int64"
      ]
     },
     "execution_count": 20,
     "metadata": {},
     "output_type": "execute_result"
    }
   ],
   "source": [
    "test_y.value_counts()"
   ]
  },
  {
   "cell_type": "code",
   "execution_count": 21,
   "id": "superior-litigation",
   "metadata": {},
   "outputs": [
    {
     "data": {
      "text/plain": [
       "Text(0, 0.5, 'Frequency')"
      ]
     },
     "execution_count": 21,
     "metadata": {},
     "output_type": "execute_result"
    },
    {
     "data": {
      "image/png": "[encoded data removed]",
      "text/plain": [
       "<Figure size 432x288 with 1 Axes>"
      ]
     },
     "metadata": {
      "needs_background": "light"
     },
     "output_type": "display_data"
    }
   ],
   "source": [
    "labels = ['Normal', 'Anomaly']\n",
    "classes = pd.value_counts(test_y, sort = True)\n",
    "classes.plot(kind = 'bar', rot = 0, color = \"pink\")\n",
    "plt.title(\"Network Traffic Distribution (Testing Set)\")\n",
    "plt.xticks(range(2), labels)\n",
    "plt.xlabel(\"Class\")\n",
    "plt.ylabel(\"Frequency\")"
   ]
  },
  {
   "cell_type": "code",
   "execution_count": 22,
   "id": "related-anchor",
   "metadata": {},
   "outputs": [
    {
     "data": {
      "text/plain": [
       "0"
      ]
     },
     "execution_count": 22,
     "metadata": {},
     "output_type": "execute_result"
    }
   ],
   "source": [
    "train_x.isnull().any().sum()"
   ]
  },
  {
   "cell_type": "code",
   "execution_count": 23,
   "id": "aboriginal-george",
   "metadata": {},
   "outputs": [
    {
     "data": {
      "text/plain": [
       "0"
      ]
     },
     "execution_count": 23,
     "metadata": {},
     "output_type": "execute_result"
    }
   ],
   "source": [
    "train_y.isnull().any().sum()"
   ]
  },
  {
   "cell_type": "code",
   "execution_count": 24,
   "id": "literary-leeds",
   "metadata": {},
   "outputs": [
    {
     "data": {
      "text/plain": [
       "0"
      ]
     },
     "execution_count": 24,
     "metadata": {},
     "output_type": "execute_result"
    }
   ],
   "source": [
    "test_x.isnull().any().sum()"
   ]
  },
  {
   "cell_type": "code",
   "execution_count": 25,
   "id": "opposed-prototype",
   "metadata": {},
   "outputs": [
    {
     "data": {
      "text/plain": [
       "0"
      ]
     },
     "execution_count": 25,
     "metadata": {},
     "output_type": "execute_result"
    }
   ],
   "source": [
    "test_y.isnull().any().sum()"
   ]
  },
  {
   "cell_type": "markdown",
   "id": "middle-parker",
   "metadata": {},
   "source": [
    "# Modeling"
   ]
  },
  {
   "cell_type": "markdown",
   "id": "auburn-purse",
   "metadata": {},
   "source": [
    "## Random Forest"
   ]
  },
  {
   "cell_type": "code",
   "execution_count": 26,
   "id": "forbidden-signature",
   "metadata": {},
   "outputs": [],
   "source": [
    "clf = RandomForestClassifier(max_depth = None).fit(train_x, train_y)"
   ]
  },
  {
   "cell_type": "code",
   "execution_count": 27,
   "id": "played-trader",
   "metadata": {},
   "outputs": [
    {
     "name": "stdout",
     "output_type": "stream",
     "text": [
      "[1 1 1 ... 0 0 0]\n"
     ]
    }
   ],
   "source": [
    "pred_test_y = clf.predict(test_x)\n",
    "print(pred_test_y)"
   ]
  },
  {
   "cell_type": "code",
   "execution_count": 28,
   "id": "quantitative-liberal",
   "metadata": {},
   "outputs": [
    {
     "data": {
      "text/plain": [
       "0.9980150853513299"
      ]
     },
     "execution_count": 28,
     "metadata": {},
     "output_type": "execute_result"
    }
   ],
   "source": [
    "accuracy_score(test_y, pred_test_y)"
   ]
  },
  {
   "cell_type": "raw",
   "id": "rental-spare",
   "metadata": {},
   "source": [
    "0.9418420007939659"
   ]
  },
  {
   "cell_type": "code",
   "execution_count": 29,
   "id": "pretty-machine",
   "metadata": {},
   "outputs": [
    {
     "data": {
      "text/plain": [
       "array([[2355,    8],\n",
       "       [   2, 2673]])"
      ]
     },
     "execution_count": 29,
     "metadata": {},
     "output_type": "execute_result"
    }
   ],
   "source": [
    "confusion_matrix(test_y, pred_test_y)"
   ]
  },
  {
   "cell_type": "code",
   "execution_count": 30,
   "id": "15917773-7db6-4b7e-9d05-842a9343ac97",
   "metadata": {},
   "outputs": [
    {
     "name": "stdout",
     "output_type": "stream",
     "text": [
      "accuracy is 0.9980150853513299\n",
      "precision is 0.9970160387914957\n",
      "recall is 0.9992523364485981\n"
     ]
    }
   ],
   "source": [
    "tn, fp, fn, tp = confusion_matrix(test_y, pred_test_y).ravel()\n",
    "print(f\"accuracy is {(tp +tn)/(tn+fp+fn+tp)}\")\n",
    "print(f\"precision is {tp / (tp + fp)}\")\n",
    "print(f\"recall is {tp / (tp + fn)}\")"
   ]
  },
  {
   "cell_type": "code",
   "execution_count": 31,
   "id": "2f80fa16-f934-4a3b-a520-50d9d405fe74",
   "metadata": {},
   "outputs": [
    {
     "data": {
      "text/plain": [
       "0.9980071454791711"
      ]
     },
     "execution_count": 31,
     "metadata": {},
     "output_type": "execute_result"
    }
   ],
   "source": [
    "f1_score(test_y, pred_test_y, average='macro')"
   ]
  },
  {
   "cell_type": "markdown",
   "id": "a11cc21c-b8d8-4d91-a49b-7b3b349ea636",
   "metadata": {},
   "source": [
    "# SVM"
   ]
  },
  {
   "cell_type": "code",
   "execution_count": null,
   "id": "72fdf47b-442d-4e62-96d2-cbcc777d93c5",
   "metadata": {},
   "outputs": [],
   "source": [
    "param_grid = {'C': [0.5,0.1] ,'gamma': [0.05,0.01], 'kernel': ['linear','rbf']}\n",
    "svc = svm.SVC()\n",
    "nslkdd_svm_clf = GridSearchCV(svc,param_grid).fit(train_x, train_y)"
   ]
  },
  {
   "cell_type": "code",
   "execution_count": null,
   "id": "f239127f-2422-49b9-9de3-bfb9d5d97569",
   "metadata": {},
   "outputs": [],
   "source": [
    "pred_test_y = nslkdd_svm_clf.predict(test_x)\n",
    "print(pred_test_y)"
   ]
  },
  {
   "cell_type": "code",
   "execution_count": null,
   "id": "6c1a57d9-0796-451c-8ff4-71a10d09db02",
   "metadata": {},
   "outputs": [],
   "source": [
    "accuracy_score(test_y, pred_test_y)"
   ]
  },
  {
   "cell_type": "code",
   "execution_count": null,
   "id": "17797f5a-ce5e-4661-a90f-8fc264455a43",
   "metadata": {},
   "outputs": [],
   "source": [
    "confusion_matrix(test_y, pred_test_y)"
   ]
  },
  {
   "cell_type": "code",
   "execution_count": null,
   "id": "5b54091a-fbc6-401c-a11d-964693a77ab2",
   "metadata": {},
   "outputs": [],
   "source": [
    "tn, fp, fn, tp = confusion_matrix(test_y, pred_test_y).ravel()\n",
    "print(f\"accuracy is {(tp +tn)/(tn+fp+fn+tp)}\")\n",
    "print(f\"precision is {tp / (tp + fp)}\")\n",
    "print(f\"recall is {tp / (tp + fn)}\")"
   ]
  },
  {
   "cell_type": "code",
   "execution_count": null,
   "id": "a03b4d06-b346-4f94-8402-b2bb5eb1a9dd",
   "metadata": {},
   "outputs": [],
   "source": [
    "f1_score(test_y, pred_test_y, average='macro')"
   ]
  },
  {
   "cell_type": "code",
   "execution_count": null,
   "id": "4de0a98c-43a0-48f4-a8d1-6534d177813c",
   "metadata": {},
   "outputs": [],
   "source": [
    "\n"
   ]
  },
  {
   "cell_type": "code",
   "execution_count": null,
   "id": "08148a07-73de-4cd6-98e8-661bb96b1da7",
   "metadata": {},
   "outputs": [],
   "source": []
  }
 ],
 "metadata": {
  "kernelspec": {
   "display_name": "Python 3 (ipykernel)",
   "language": "python",
   "name": "python3"
  },
  "language_info": {
   "codemirror_mode": {
    "name": "ipython",
    "version": 3
   },
   "file_extension": ".py",
   "mimetype": "text/x-python",
   "name": "python",
   "nbconvert_exporter": "python",
   "pygments_lexer": "ipython3",
   "version": "3.8.5"
  }
 },
 "nbformat": 4,
 "nbformat_minor": 5
}
